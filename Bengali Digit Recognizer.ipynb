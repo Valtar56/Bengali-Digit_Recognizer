{
 "cells": [
  {
   "cell_type": "markdown",
   "metadata": {
    "colab_type": "text",
    "id": "rgtp3RKivDxU"
   },
   "source": [
    "<h1> Code for bengali digits recognition from an image  </h1>"
   ]
  },
  {
   "cell_type": "code",
   "execution_count": 1,
   "metadata": {
    "colab": {},
    "colab_type": "code",
    "id": "Oflpgtw2vBL0"
   },
   "outputs": [],
   "source": [
    "import tensorflow as tf\n",
    "import matplotlib.pyplot as plt\n",
    "from skimage.transform import resize\n",
    "import numpy as np\n",
    "import cv2"
   ]
  },
  {
   "cell_type": "markdown",
   "metadata": {
    "colab_type": "text",
    "id": "KdaaeOD0u_V_"
   },
   "source": [
    "<h4>loading the training and testing data. the data is in form of .npz format which consisits of 2 files : \n",
    "  'images' and 'labels'</h4> "
   ]
  },
  {
   "cell_type": "code",
   "execution_count": 2,
   "metadata": {
    "colab": {},
    "colab_type": "code",
    "id": "IhPTHYwg-_ke"
   },
   "outputs": [],
   "source": [
    "training = np.load('training-images.npz')\n",
    "y_train = training['labels']\n",
    "x_train = training['images']\n",
    "\n",
    "testing = np.load('testing-images.npz')\n",
    "x_test= testing['images']\n",
    "y_test = testing['labels']"
   ]
  },
  {
   "cell_type": "code",
   "execution_count": 3,
   "metadata": {
    "colab": {
     "base_uri": "https://localhost:8080/",
     "height": 35
    },
    "colab_type": "code",
    "id": "x6lGhADI-_ku",
    "outputId": "6220aaf0-3916-4775-bf9f-58d5ea7a84fc"
   },
   "outputs": [
    {
     "name": "stdout",
     "output_type": "stream",
     "text": [
      "(5000, 32, 32, 3)\n"
     ]
    }
   ],
   "source": [
    "print(x_train.shape)"
   ]
  },
  {
   "cell_type": "markdown",
   "metadata": {
    "colab_type": "text",
    "id": "594pDNVL-_kw"
   },
   "source": [
    "# Image normalization\n",
    "<h4>In order to reduce the computation of the CNN model that we have normalized the image by dividing all the pixels by the maximum size which is 255. This doesn't affect the actual image as can be shown by plotting the image before and after normalization. </h4>"
   ]
  },
  {
   "cell_type": "code",
   "execution_count": 4,
   "metadata": {
    "colab": {},
    "colab_type": "code",
    "id": "P3R0ZOJD-_kx"
   },
   "outputs": [],
   "source": [
    "x_train = x_train/255.0\n",
    "x_test = x_test/255.0"
   ]
  },
  {
   "cell_type": "markdown",
   "metadata": {
    "colab_type": "text",
    "id": "K01yH1AE-_kz"
   },
   "source": [
    "<h1> BUilding a KERAS sequential model</h1>"
   ]
  },
  {
   "cell_type": "code",
   "execution_count": 5,
   "metadata": {
    "colab": {
     "base_uri": "https://localhost:8080/",
     "height": 479
    },
    "colab_type": "code",
    "id": "Bsalbj_M-_k0",
    "outputId": "b66ec65c-4220-4658-8093-5eac05a0af2f"
   },
   "outputs": [
    {
     "name": "stdout",
     "output_type": "stream",
     "text": [
      "Model: \"sequential\"\n",
      "_________________________________________________________________\n",
      "Layer (type)                 Output Shape              Param #   \n",
      "=================================================================\n",
      "conv2d (Conv2D)              (None, 32, 32, 32)        896       \n",
      "_________________________________________________________________\n",
      "max_pooling2d (MaxPooling2D) (None, 16, 16, 32)        0         \n",
      "_________________________________________________________________\n",
      "conv2d_1 (Conv2D)            (None, 16, 16, 32)        9248      \n",
      "_________________________________________________________________\n",
      "max_pooling2d_1 (MaxPooling2 (None, 8, 8, 32)          0         \n",
      "_________________________________________________________________\n",
      "conv2d_2 (Conv2D)            (None, 8, 8, 64)          18496     \n",
      "_________________________________________________________________\n",
      "dropout (Dropout)            (None, 8, 8, 64)          0         \n",
      "_________________________________________________________________\n",
      "flatten (Flatten)            (None, 4096)              0         \n",
      "_________________________________________________________________\n",
      "dense (Dense)                (None, 128)               524416    \n",
      "_________________________________________________________________\n",
      "dense_1 (Dense)              (None, 10)                1290      \n",
      "=================================================================\n",
      "Total params: 554,346\n",
      "Trainable params: 554,346\n",
      "Non-trainable params: 0\n",
      "_________________________________________________________________\n"
     ]
    }
   ],
   "source": [
    "model = tf.keras.models.Sequential([\n",
    "    tf.keras.layers.Conv2D(32, kernel_size = 3, padding = \"same\", activation = \"relu\", input_shape = [32,32,3]),\n",
    "    tf.keras.layers.MaxPool2D(pool_size=2, strides=2, padding='same'),\n",
    "    tf.keras.layers.Conv2D(filters=32, kernel_size=3, padding=\"same\", activation=\"relu\"),\n",
    "    tf.keras.layers.MaxPool2D(pool_size=2, strides=2, padding='same'),\n",
    "    tf.keras.layers.Conv2D(filters=64, kernel_size=3, padding=\"same\", activation=\"relu\"),\n",
    "    tf.keras.layers.Dropout(0.2),\n",
    "    tf.keras.layers.Flatten(),\n",
    "    tf.keras.layers.Dense(units=128, activation='relu'),\n",
    "    tf.keras.layers.Dense(units=10, activation='softmax')\n",
    "])\n",
    "model.summary()"
   ]
  },
  {
   "cell_type": "markdown",
   "metadata": {
    "colab_type": "text",
    "id": "iEc6_DYL-_k2"
   },
   "source": [
    "# Compiling model\n",
    "with reference to the [ https://medium.com/@onlytojay/mnist-cnn-optimizer-comparison-with-tensorflow-keras-163735862ecd] adam optimiser was decided  ."
   ]
  },
  {
   "cell_type": "code",
   "execution_count": 6,
   "metadata": {
    "colab": {},
    "colab_type": "code",
    "id": "0Z9rnLXg-_k3"
   },
   "outputs": [],
   "source": [
    "model.compile(loss=\"sparse_categorical_crossentropy\",\n",
    "              optimizer=\"Adam\", metrics=[\"sparse_categorical_accuracy\"])"
   ]
  },
  {
   "cell_type": "markdown",
   "metadata": {
    "colab_type": "text",
    "id": "CNjzHU_Z-_k5"
   },
   "source": [
    "# Defining a Callback\n",
    "the callback class is useful to terminate the training process whenever the desired threshold is reached. We intend to stop the training process when the accuracy goes beyond 0.99. "
   ]
  },
  {
   "cell_type": "code",
   "execution_count": 7,
   "metadata": {
    "colab": {},
    "colab_type": "code",
    "id": "0nnsUTUk-_k6"
   },
   "outputs": [],
   "source": [
    "ACCURACY_THRESHOLD = 0.99\n",
    "class myCallback(tf.keras.callbacks.Callback):\n",
    "    def on_epoch_end(self, epoch, logs= {}):\n",
    "        if (logs.get('sparse_categorical_accuracy')> ACCURACY_THRESHOLD ):\n",
    "            print(\"\\n Reached 99% accuracy, so cancelling training!\")\n",
    "            self.model.stop_training = True\n",
    "            \n",
    "            \n",
    "callbacks = myCallback()"
   ]
  },
  {
   "cell_type": "markdown",
   "metadata": {
    "colab_type": "text",
    "id": "3ZHCqtH6-_k8"
   },
   "source": [
    "# Training the model\n"
   ]
  },
  {
   "cell_type": "code",
   "execution_count": 8,
   "metadata": {
    "colab": {
     "base_uri": "https://localhost:8080/",
     "height": 248
    },
    "colab_type": "code",
    "id": "BqEXVIae-_k8",
    "outputId": "54750624-0d28-4e1a-93f7-1daefbc627b9"
   },
   "outputs": [
    {
     "name": "stdout",
     "output_type": "stream",
     "text": [
      "Train on 5000 samples\n",
      "Epoch 1/10\n",
      "5000/5000 [==============================] - 16s 3ms/sample - loss: 0.5477 - sparse_categorical_accuracy: 0.8228\n",
      "Epoch 2/10\n",
      "5000/5000 [==============================] - 3s 619us/sample - loss: 0.1246 - sparse_categorical_accuracy: 0.9588\n",
      "Epoch 3/10\n",
      "5000/5000 [==============================] - 3s 614us/sample - loss: 0.0710 - sparse_categorical_accuracy: 0.9784\n",
      "Epoch 4/10\n",
      "5000/5000 [==============================] - 3s 614us/sample - loss: 0.0415 - sparse_categorical_accuracy: 0.9874\n",
      "Epoch 5/10\n",
      "4928/5000 [============================>.] - ETA: 0s - loss: 0.0304 - sparse_categorical_accuracy: 0.9901\n",
      " Reached 99% accuracy, so cancelling training!\n",
      "5000/5000 [==============================] - 3s 614us/sample - loss: 0.0306 - sparse_categorical_accuracy: 0.9900\n"
     ]
    },
    {
     "data": {
      "text/plain": [
       "<tensorflow.python.keras.callbacks.History at 0x24a04087a08>"
      ]
     },
     "execution_count": 8,
     "metadata": {},
     "output_type": "execute_result"
    }
   ],
   "source": [
    "model.fit(x_train, y_train, epochs = 10, callbacks = [callbacks])"
   ]
  },
  {
   "cell_type": "code",
   "execution_count": 9,
   "metadata": {
    "colab": {},
    "colab_type": "code",
    "id": "_LvbtH0e-_k_"
   },
   "outputs": [],
   "source": [
    "# As our model is trained now, lets get to our image"
   ]
  },
  {
   "cell_type": "markdown",
   "metadata": {
    "colab_type": "text",
    "id": "qZzBQj9e-_lB"
   },
   "source": [
    "# Image preprocessing"
   ]
  },
  {
   "cell_type": "code",
   "execution_count": 66,
   "metadata": {
    "colab": {
     "base_uri": "https://localhost:8080/",
     "height": 215
    },
    "colab_type": "code",
    "id": "I0eH1lz0-_lE",
    "outputId": "928ad76f-18eb-4261-c37f-542c8e5b1ff2"
   },
   "outputs": [
    {
     "name": "stdout",
     "output_type": "stream",
     "text": [
      "(514, 1181, 3)\n"
     ]
    },
    {
     "data": {
      "image/png": "[encoded data removed]",
      "text/plain": [
       "<Figure size 432x288 with 1 Axes>"
      ]
     },
     "metadata": {
      "needs_background": "light"
     },
     "output_type": "display_data"
    }
   ],
   "source": [
    "# read the image \n",
    "image = cv2.imread(\"rgb.jpeg\") \n",
    "img = image.copy()\n",
    "plt.imshow(image, cmap=\"gray\")\n",
    "print(img.shape)\n"
   ]
  },
  {
   "cell_type": "markdown",
   "metadata": {
    "colab_type": "text",
    "id": "iK58PKUl2IWn"
   },
   "source": [
    "<h3> Defining Image binarization function  </h3>"
   ]
  },
  {
   "cell_type": "code",
   "execution_count": 67,
   "metadata": {
    "colab": {},
    "colab_type": "code",
    "id": "0MEmeMK2-_lH"
   },
   "outputs": [],
   "source": [
    "def binarize(image):\n",
    "    # convert to RGB\n",
    "    image = cv2.cvtColor(image, cv2.COLOR_BGR2RGB)\n",
    "    # convert to grayscale\n",
    "    gray = cv2.cvtColor(image, cv2.COLOR_RGB2GRAY)\n",
    "    # create a binary thresholded image\n",
    "    _, binary = cv2.threshold(gray, 110, 225, cv2.THRESH_BINARY_INV)\n",
    "\n",
    "    return binary\n",
    "\n"
   ]
  },
  {
   "cell_type": "markdown",
   "metadata": {
    "colab_type": "text",
    "id": "DKMl9IJD2dJt"
   },
   "source": [
    "now we take the reference image ; binarise it and save it for further use as 'bin.jpg'. we will be using this image after we find the contours of digits, for digits extraction."
   ]
  },
  {
   "cell_type": "code",
   "execution_count": 68,
   "metadata": {
    "colab": {
     "base_uri": "https://localhost:8080/",
     "height": 197
    },
    "colab_type": "code",
    "id": "6SJvhpyD-_lK",
    "outputId": "378107a3-282e-44ee-c168-cbb314b8e614"
   },
   "outputs": [
    {
     "data": {
      "image/png": "[encoded data removed]",
      "text/plain": [
       "<Figure size 432x288 with 1 Axes>"
      ]
     },
     "metadata": {
      "needs_background": "light"
     },
     "output_type": "display_data"
    }
   ],
   "source": [
    "binary = binarize(image)\n",
    "#\n",
    "plt.imshow(binary, cmap=\"gray\") # plotting the binarised image\n",
    "plt.imsave('bin.jpg',binary,cmap = \"gray\") # saving the binarised image"
   ]
  },
  {
   "cell_type": "markdown",
   "metadata": {
    "colab_type": "text",
    "id": "WCUV6uHI3O5L"
   },
   "source": [
    "#finding contours\n",
    "some major part of the code below was reffered from the openCV documentations on contour features[https://docs.opencv.org/3.4/dd/d49/tutorial_py_contour_features.html]"
   ]
  },
  {
   "cell_type": "code",
   "execution_count": 69,
   "metadata": {
    "colab": {
     "base_uri": "https://localhost:8080/",
     "height": 197
    },
    "colab_type": "code",
    "id": "ATFZiXCp-_lO",
    "outputId": "aeaabc4c-afd0-4974-f829-0126965a1ce4"
   },
   "outputs": [
    {
     "data": {
      "image/png": "[encoded data removed]",
      "text/plain": [
       "<Figure size 432x288 with 1 Axes>"
      ]
     },
     "metadata": {
      "needs_background": "light"
     },
     "output_type": "display_data"
    }
   ],
   "source": [
    "# find the contours from the thresholded image\n",
    "contours, hierarchy = cv2.findContours(binary, cv2.RETR_EXTERNAL , cv2.CHAIN_APPROX_SIMPLE) \n",
    "\n",
    "# draw all contours\n",
    "image = cv2.drawContours(binary, contours, -1, (0, 255, 0), 2)\n",
    "plt.imshow(image)# show the image with the drawn contours\n",
    "plt.show()"
   ]
  },
  {
   "cell_type": "markdown",
   "metadata": {
    "colab_type": "text",
    "id": "ISr5-0Ha4CHQ"
   },
   "source": [
    "<h3>these contours are saved in a vector  'contours'</h3>"
   ]
  },
  {
   "cell_type": "code",
   "execution_count": 70,
   "metadata": {
    "colab": {
     "base_uri": "https://localhost:8080/",
     "height": 35
    },
    "colab_type": "code",
    "id": "e8mVgcag-_lS",
    "outputId": "1c504ec9-6431-4cd6-ee7e-4ade2b4fa6b5"
   },
   "outputs": [
    {
     "data": {
      "text/plain": [
       "4"
      ]
     },
     "execution_count": 70,
     "metadata": {},
     "output_type": "execute_result"
    }
   ],
   "source": [
    "\n",
    "len(contours)\n"
   ]
  },
  {
   "cell_type": "markdown",
   "metadata": {
    "colab_type": "text",
    "id": "r3AsP31z8-L2"
   },
   "source": [
    "<h4>conversion of binarised image (that we saved earlier as bin.jpg) such that all black pixels turn white and vice versa using bitwise_not.\n",
    "the image obtained from this operation will be used further to extract the bounding rectangles from it.</h4>"
   ]
  },
  {
   "cell_type": "code",
   "execution_count": 71,
   "metadata": {
    "colab": {
     "base_uri": "https://localhost:8080/",
     "height": 215
    },
    "colab_type": "code",
    "id": "sZaBPhKVdMMz",
    "outputId": "34a54b27-fed6-4c73-d178-ce4ea705f598"
   },
   "outputs": [
    {
     "data": {
      "text/plain": [
       "<matplotlib.image.AxesImage at 0x24ab3ef0c08>"
      ]
     },
     "execution_count": 71,
     "metadata": {},
     "output_type": "execute_result"
    },
    {
     "data": {
      "image/png": "[encoded data removed]",
      "text/plain": [
       "<Figure size 432x288 with 1 Axes>"
      ]
     },
     "metadata": {
      "needs_background": "light"
     },
     "output_type": "display_data"
    }
   ],
   "source": [
    "\n",
    "binr = cv2.imread('bin.jpg')\n",
    "binr = cv2.bitwise_not(binr)\n",
    "plt.imshow(binr)\n",
    "#binr"
   ]
  },
  {
   "cell_type": "markdown",
   "metadata": {
    "colab_type": "text",
    "id": "HMLpIw7W4X-H"
   },
   "source": [
    "# The following loop performs 3 tasks as follows:        \n",
    "<h3>[1] using the contours vector extract each digit image in form of a <h3>bounding    rectangle where (x,y) are coordinates of top left corner pixel of<h3> this rectangle and  w , h are width and height of the rectangle.  </h3>     \n",
    "<h3>[2] resize these images to the same size as training images. </h3>           \n",
    "<h3>[3] prediction of the digit matching with that image</h3>\n"
   ]
  },
  {
   "cell_type": "code",
   "execution_count": 72,
   "metadata": {
    "colab": {
     "base_uri": "https://localhost:8080/",
     "height": 1000
    },
    "colab_type": "code",
    "id": "zACelyRF-_lX",
    "outputId": "0ff576d3-4ac7-4405-bfec-4a151312b3ac"
   },
   "outputs": [
    {
     "data": {
      "image/png": "[encoded data removed]",
      "text/plain": [
       "<Figure size 432x288 with 1 Axes>"
      ]
     },
     "metadata": {
      "needs_background": "light"
     },
     "output_type": "display_data"
    },
    {
     "name": "stdout",
     "output_type": "stream",
     "text": [
      "Predicted value: 1\n"
     ]
    },
    {
     "data": {
      "image/png": "[encoded data removed]",
      "text/plain": [
       "<Figure size 432x288 with 1 Axes>"
      ]
     },
     "metadata": {
      "needs_background": "light"
     },
     "output_type": "display_data"
    },
    {
     "name": "stdout",
     "output_type": "stream",
     "text": [
      "Predicted value: 0\n"
     ]
    },
    {
     "data": {
      "image/png": "[encoded data removed]",
      "text/plain": [
       "<Figure size 432x288 with 1 Axes>"
      ]
     },
     "metadata": {
      "needs_background": "light"
     },
     "output_type": "display_data"
    },
    {
     "name": "stdout",
     "output_type": "stream",
     "text": [
      "Predicted value: 5\n"
     ]
    },
    {
     "data": {
      "image/png": "[encoded data removed]",
      "text/plain": [
       "<Figure size 432x288 with 1 Axes>"
      ]
     },
     "metadata": {
      "needs_background": "light"
     },
     "output_type": "display_data"
    },
    {
     "name": "stdout",
     "output_type": "stream",
     "text": [
      "Predicted value: 9\n"
     ]
    }
   ],
   "source": [
    "ans = []\n",
    "image_name = 0\n",
    "x1,y1 = 0,0\n",
    "\n",
    "for i in range(len(contours)):\n",
    "    image_name += 1\n",
    "    cnt = contours[i]                     \n",
    "    x,y,w,h = cv2.boundingRect(cnt)      # extracting specifications of the bounding rectangle.\n",
    "    segmented_image=binr[y:y+h,x:x+w]    # extracting this bounding rectangle form the binr image.\n",
    "    \n",
    "    # resizing the segmented images\n",
    "    if abs(x1 - x) > 0.5 and abs(y-y1) > 0.5:\n",
    "        if h >= 30 and w >= 30:\n",
    "            segmented_image = resize(abs(segmented_image), (32,32))\n",
    "            plt.imshow(segmented_image)\n",
    "            plt.show()\n",
    "            cv2.imwrite(str(image_name) + '.jpg',segmented_image)\n",
    "            \n",
    "    x1,y1 = x,y\n",
    "\n",
    "\n",
    "    # image prediction\n",
    "    op = model.predict_classes(tf.reshape((segmented_image),[1,32,32,3]))    \n",
    "    ans.append(op[0])\n",
    "    print(f'Predicted value: {op[0]}')"
   ]
  },
  {
   "cell_type": "code",
   "execution_count": 76,
   "metadata": {
    "colab": {
     "base_uri": "https://localhost:8080/",
     "height": 35
    },
    "colab_type": "code",
    "id": "YKda_Tbt-_lY",
    "outputId": "45fefd90-4be9-474a-9c0d-1a28646875ea"
   },
   "outputs": [
    {
     "name": "stdout",
     "output_type": "stream",
     "text": [
      "The predicted values are [1, 0, 5, 9]\n"
     ]
    }
   ],
   "source": [
    "print(f\"The predicted values are {ans}\")"
   ]
  },
  {
   "cell_type": "code",
   "execution_count": null,
   "metadata": {},
   "outputs": [],
   "source": []
  }
 ],
 "metadata": {
  "accelerator": "GPU",
  "colab": {
   "collapsed_sections": [],
   "name": "ultra sub funal code.ipynb",
   "provenance": [],
   "toc_visible": true
  },
  "kernelspec": {
   "display_name": "Python 3",
   "language": "python",
   "name": "python3"
  },
  "language_info": {
   "codemirror_mode": {
    "name": "ipython",
    "version": 3
   },
   "file_extension": ".py",
   "mimetype": "text/x-python",
   "name": "python",
   "nbconvert_exporter": "python",
   "pygments_lexer": "ipython3",
   "version": "3.7.7"
  }
 },
 "nbformat": 4,
 "nbformat_minor": 1
}
